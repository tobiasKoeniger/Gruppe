{
 "cells": [
  {
   "cell_type": "markdown",
   "metadata": {},
   "source": [
    "# Principal Component Analysis\n",
    "\n",
    "## Introduction\n",
    "\n",
    "In this exercise, you will experiment with two different techniques to compute the principal components of a dataset:\n",
    "\n",
    "* **Basic PCA**: The standard technique based on singular value decomposition.\n",
    "\n",
    "\n",
    "* **Iterative PCA**: A technique that progressively optimizes the PCA objective function.\n",
    "\n",
    "Principal component analysis is applied here to modeling handwritten characters data (characters \"O\" and \"I\") using the dataset introduced in the paper \"L.J.P. van der Maaten. 2009. A New Benchmark Dataset for Handwritten Character Recognition\". The dataset consists of black and white images of $28 \\times 28$ pixels, each representing a handwritten character. For the purpose of the PCA analysis, these images are interpreted as 784-dimensional vectors with values between 0 and 1. Three methods are provided for your convenience and are available in the module `utils` that is included in the zip archive. The methods are the following:\n",
    "\n",
    "* **`utils.load()`** load data from the file `characters.csv` and stores them in a data matrix of size $4631 \\times 784$. (The data is a subset of the original dataset available here: http://lvdmaaten.github.io/publications/misc/characters.zip)\n",
    "\n",
    "\n",
    "* **`utils.scatterplot(...)`** produces a scatter plot from a two-dimensional data set. Each point in the scatter plot represents one handwritten character. This method provides a convenient way to produce two-dimensional PCA plots.\n",
    "\n",
    "\n",
    "* **`utils.render(...)`** takes a matrix of size $n \\times 784$ as input, interprets it as $n$ images of size $28 \\times 28$, and renders these images in the IPython notebook.\n",
    "\n",
    "A demo code that makes use of these methods is given below. It performs basic data analysis, for example, plotting simple statistics for each data point in the dataset, or rendering a few examples randomly selected from the dataset."
   ]
  },
  {
   "cell_type": "code",
   "execution_count": null,
   "metadata": {
    "scrolled": true
   },
   "outputs": [],
   "source": [
    "import utils,numpy\n",
    "%matplotlib inline\n",
    "\n",
    "# Load the characters \"O\" and \"I\" from the handwritten characters dataset\n",
    "X = utils.load()\n",
    "\n",
    "print('dataset size: %s'%str(X.shape))\n",
    "\n",
    "# Plot some statistics of the data using the scatterplot function\n",
    "utils.scatterplot(X[:,:392].mean(axis=1),X[:,392:].mean(axis=1),\n",
    "                  xlabel='Average value of pixels 1...392',\n",
    "                  ylabel='Average value of pixels 393...784')\n",
    "utils.scatterplot(X[:,::2].mean(axis=1),X[:,1::2].mean(axis=1),\n",
    "                  xlabel='Average value of even pixels',\n",
    "                  ylabel='Average value of odd pixels')\n",
    "\n",
    "# Render some randomly selected examples\n",
    "R=numpy.random.randint(0,len(X),[25])\n",
    "utils.render(X[R])"
   ]
  },
  {
   "cell_type": "markdown",
   "metadata": {},
   "source": [
    "The preliminary data analysis above does not reveal particularly interesting structure in the data. For example scatter plots fail to let appear the two types of characters present in the dataset (\"O\" and \"I\"). Therefore, we would like to gain more insight on the dataset by performing a more sophisticated analysis based on PCA.\n",
    "\n",
    "## PCA with Singular Value Decomposition (15 P)\n",
    "\n",
    "As shown during the lecture, principal components can be found by solving the eigenvalue problem\n",
    "\n",
    "$$\n",
    "\\boldsymbol{S} \\boldsymbol{w} = \\lambda \\boldsymbol{w}.\n",
    "$$\n",
    "\n",
    "While we could eigendecompose the scatter matrix to find the desired eigenvalues and eigenvectors (for example, by using the function `numpy.linalg.eigh`), we usually prefer to recover principal components directly from singular value decomposition\n",
    "\n",
    "$$\n",
    "\\boldsymbol{X} = \\boldsymbol{U} \\, \\boldsymbol{\\Sigma} \\, \\boldsymbol{V}^\\top,\n",
    "$$\n",
    "\n",
    "where the principal components and projection of data onto these components can also be retrieved from the matrices $\\boldsymbol{U}$, $\\boldsymbol{\\Sigma}$ and $\\boldsymbol{V}$.\n",
    "\n",
    "**Tasks:**\n",
    "\n",
    "* **Compute the principal components of the data using the function `numpy.linalg.svd`.**\n",
    "* **Measure the computational time required to find the principal components. Use the function `time.time()` for that purpose. Do *not* include in your estimate the computation overhead caused by loading the data, plotting and rendering.**\n",
    "* **Plot the projection of the dataset on the first two principal components using the function `utils.scatterplot`.**\n",
    "* **Visualize the 25 leading principal components using the function `utils.render`.**\n",
    "\n",
    "Note that if the algorithm runs for more than 1 minute, you might be doing something wrong."
   ]
  },
  {
   "cell_type": "code",
   "execution_count": null,
   "metadata": {
    "scrolled": true
   },
   "outputs": [],
   "source": [
    "### REPLACE BY YOUR CODE\n",
    "import solutions; solutions.basic()\n",
    "###"
   ]
  },
  {
   "cell_type": "markdown",
   "metadata": {},
   "source": [
    "## Iterative PCA (15 P)\n",
    "\n",
    "The objective that PCA optimizes is given by\n",
    "\n",
    "$$\n",
    "J(\\boldsymbol{w}) = \\boldsymbol{w}^\\top \\boldsymbol{S} \\boldsymbol{w}\n",
    "$$\n",
    "\n",
    "subject to\n",
    "\n",
    "$$\n",
    "\\boldsymbol{w}^\\top \\boldsymbol{w} = 1.\n",
    "$$\n",
    "\n",
    "The power iteration algorithm maximizes this objective using an iterative procedure. It starts with an initial weight vector $\\boldsymbol{w}$, and iteratively applies the update rule\n",
    "\n",
    "$$\n",
    "\\boldsymbol{w} \\leftarrow \\frac{\\boldsymbol{S} \\boldsymbol{w}}{\\|\\boldsymbol{S} \\boldsymbol{w}\\|}\n",
    "$$\n",
    "\n",
    "**Tasks:**\n",
    "\n",
    "* **Implement the iterative procedure. Use as a stopping criterion the value of $J(\\boldsymbol{w})$ between two iterations increasing by less than $0.01$.**\n",
    "* **Print the value of the objective function $J(\\boldsymbol{w})$ at each iteration.**\n",
    "* **Measure the time taken to find the principal component.**\n",
    "* **Visualize the the eigenvector $\\boldsymbol{w}$ obtained after convergence using the function `utils.render`.**\n",
    "\n",
    "Note that if the algorithm runs for more than 1 minute, you might be doing something wrong."
   ]
  },
  {
   "cell_type": "code",
   "execution_count": null,
   "metadata": {
    "scrolled": true
   },
   "outputs": [],
   "source": [
    "### REPLACE BY YOUR CODE\n",
    "import solutions; solutions.iterative()\n",
    "###"
   ]
  }
 ],
 "metadata": {
  "kernelspec": {
   "display_name": "Python 3",
   "language": "python",
   "name": "python3"
  },
  "language_info": {
   "codemirror_mode": {
    "name": "ipython",
    "version": 3
   },
   "file_extension": ".py",
   "mimetype": "text/x-python",
   "name": "python",
   "nbconvert_exporter": "python",
   "pygments_lexer": "ipython3",
   "version": "3.7.3"
  }
 },
 "nbformat": 4,
 "nbformat_minor": 1
}
